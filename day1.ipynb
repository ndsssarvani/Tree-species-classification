{
  "nbformat": 4,
  "nbformat_minor": 0,
  "metadata": {
    "colab": {
      "provenance": [],
      "authorship_tag": "ABX9TyPbCS4hYQQLrpLmeeIVL1I2",
      "include_colab_link": true
    },
    "kernelspec": {
      "name": "python3",
      "display_name": "Python 3"
    },
    "language_info": {
      "name": "python"
    }
  },
  "cells": [
    {
      "cell_type": "markdown",
      "metadata": {
        "id": "view-in-github",
        "colab_type": "text"
      },
      "source": [
        "<a href=\"https://colab.research.google.com/github/ndsssarvani/Tree-species-classification/blob/main/day1.ipynb\" target=\"_parent\"><img src=\"https://colab.research.google.com/assets/colab-badge.svg\" alt=\"Open In Colab\"/></a>"
      ]
    },
    {
      "cell_type": "code",
      "execution_count": null,
      "metadata": {
        "colab": {
          "base_uri": "https://localhost:8080/"
        },
        "id": "G1tWNL0n8qAY",
        "outputId": "5f92daf6-044a-43c6-f27c-5e8a7c69e5ce"
      },
      "outputs": [
        {
          "output_type": "stream",
          "name": "stdout",
          "text": [
            "Downloading from https://www.kaggle.com/api/v1/datasets/download/viditgandhi/tree-species-identification-dataset?dataset_version_number=1...\n"
          ]
        },
        {
          "output_type": "stream",
          "name": "stderr",
          "text": [
            "100%|██████████| 72.8M/72.8M [00:00<00:00, 195MB/s]"
          ]
        },
        {
          "output_type": "stream",
          "name": "stdout",
          "text": [
            "Extracting files...\n"
          ]
        },
        {
          "output_type": "stream",
          "name": "stderr",
          "text": [
            "\n"
          ]
        },
        {
          "output_type": "stream",
          "name": "stdout",
          "text": [
            "Path to dataset files: /root/.cache/kagglehub/datasets/viditgandhi/tree-species-identification-dataset/versions/1\n"
          ]
        }
      ],
      "source": [
        "import kagglehub\n",
        "\n",
        "# Download latest version\n",
        "path = kagglehub.dataset_download(\"viditgandhi/tree-species-identification-dataset\")\n",
        "\n",
        "print(\"Path to dataset files:\", path)"
      ]
    },
    {
      "cell_type": "code",
      "source": [
        "import shutil\n",
        "\n",
        "# Define the source path (where the dataset is downloaded)\n",
        "source_path = '/root/.cache/kagglehub/datasets/viditgandhi/tree-species-identification-dataset/versions/1'\n",
        "\n",
        "# Define the destination path (replace with your desired path)\n",
        "destination_path = '/content/tree-species-dataset'\n",
        "\n",
        "# Use shutil.move() to move the directory\n",
        "try:\n",
        "    shutil.move(source_path, destination_path)\n",
        "    print(f\"Dataset moved successfully from {source_path} to {destination_path}\")\n",
        "except shutil.Error as e:\n",
        "    print(f\"Error moving dataset: {e}\")\n",
        "except FileNotFoundError:\n",
        "    print(f\"Source directory not found: {source_path}\")"
      ],
      "metadata": {
        "colab": {
          "base_uri": "https://localhost:8080/"
        },
        "id": "NAlkxdhT9pMH",
        "outputId": "cd990587-d427-4746-bddd-a48ffa2dadca"
      },
      "execution_count": null,
      "outputs": [
        {
          "output_type": "stream",
          "name": "stdout",
          "text": [
            "Dataset moved successfully from /root/.cache/kagglehub/datasets/viditgandhi/tree-species-identification-dataset/versions/1 to /content/tree-species-dataset\n"
          ]
        }
      ]
    }
  ]
}